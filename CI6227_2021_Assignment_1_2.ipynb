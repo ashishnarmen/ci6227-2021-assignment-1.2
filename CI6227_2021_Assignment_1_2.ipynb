{
 "cells": [
  {
   "cell_type": "markdown",
   "source": [
    "# CI6227 Data Mining – Assignment 1\n",
    "### CI6227-2021-Assignment-1.2\n",
    "### Ashish Narmen, G1901836L"
   ],
   "metadata": {}
  },
  {
   "cell_type": "code",
   "execution_count": 1,
   "source": [
    "import pandas\n",
    "import numpy\n",
    "from sklearn import metrics\n",
    "from sklearn import preprocessing\n",
    "from sklearn.metrics import accuracy_score\n",
    "from sklearn.metrics import confusion_matrix\n",
    "from sklearn.naive_bayes import GaussianNB\n",
    "from sklearn.tree import DecisionTreeClassifier\n",
    "import time"
   ],
   "outputs": [],
   "metadata": {}
  },
  {
   "cell_type": "markdown",
   "source": [
    "### Load File"
   ],
   "metadata": {}
  },
  {
   "cell_type": "code",
   "execution_count": 2,
   "source": [
    "column_names = ['age', 'workclass', 'fnlwgt', 'education', 'education-num', \n",
    "                'marital-status', 'occupation', 'relationship', 'race', 'sex', \n",
    "                'capital-gain', 'capital-loss', 'hours-per-week', \n",
    "                'native-country', 'result']\n",
    "category_column_names =['workclass', 'race', 'education','marital-status', \n",
    "                'occupation','relationship', 'sex', 'native-country', 'result'] \n",
    "\n",
    "def load_data_file(file_name, column_names):\n",
    "  data_frame = pandas.read_csv(file_name, header=None, names=column_names)\n",
    "  data_frame = data_frame.applymap(lambda x: x.strip() if isinstance(x, str) else x)\n",
    "  return data_frame\n",
    "\n",
    "test_data_frame = load_data_file('adult.test', column_names)\n",
    "train_data_frame = load_data_file('adult.data', column_names)"
   ],
   "outputs": [],
   "metadata": {}
  },
  {
   "cell_type": "markdown",
   "source": [
    "### Data Pre-Processing"
   ],
   "metadata": {}
  },
  {
   "cell_type": "markdown",
   "source": [
    "#### Remove data entries with missing values"
   ],
   "metadata": {}
  },
  {
   "cell_type": "code",
   "execution_count": null,
   "source": [
    "def find_invalid_values(data_frame):\n",
    "  for col in data_frame.columns:\n",
    "    print(data_frame[col].value_counts(dropna = False) * 100/data_frame.shape[0], '\\n')\n",
    "find_invalid_values(train_data_frame)"
   ],
   "outputs": [],
   "metadata": {}
  },
  {
   "cell_type": "markdown",
   "source": [
    "#### Results indicate \n",
    "Training Data Set\n",
    "\n",
    "|Column | Percentage of invalid values|\n",
    "|-------|-----------------------------|\n",
    "|workclass| 5.638647 |\n",
    "|occupation|5.660146|\n",
    "|native-country|1.790486|\n",
    "\n",
    "Test Data Set\n",
    "\n",
    "|Column | Percentage of invalid values|\n",
    "|-------|-----------------------------|\n",
    "|workclass| 5.914870 |\n",
    "|occupation|5.933296|\n",
    "|native-country|1.682943|\n"
   ],
   "metadata": {}
  },
  {
   "cell_type": "markdown",
   "source": [
    "#### Remove rows that contain invalid values"
   ],
   "metadata": {}
  },
  {
   "cell_type": "code",
   "execution_count": 3,
   "source": [
    "print('Row count - Training Data Set {}'.format(len(train_data_frame.index)))\n",
    "print('Row count - Test Data Set {}'.format(len(test_data_frame.index)))\n",
    "\n",
    "def remove_invalid_values_in_data_frame(data_frame):\n",
    "  col_names = data_frame.columns\n",
    "  for c in col_names:\n",
    "    data_frame[c] = data_frame[c].replace('?', numpy.NaN)\n",
    "  data_frame = data_frame.dropna(axis=0, how='any')\n",
    "  return data_frame\n",
    "\n",
    "train_data_frame = remove_invalid_values_in_data_frame(train_data_frame)\n",
    "test_data_frame = remove_invalid_values_in_data_frame(test_data_frame)\n",
    "\n",
    "print('Row count - Training Data Set {}'.format(train_data_frame.shape[0]))\n",
    "print('Row count - Test Data Set {}'.format(test_data_frame.shape[0]))"
   ],
   "outputs": [
    {
     "output_type": "stream",
     "name": "stdout",
     "text": [
      "Row count - Training Data Set 32561\n",
      "Row count - Test Data Set 16281\n",
      "Row count - Training Data Set 30162\n",
      "Row count - Test Data Set 15060\n"
     ]
    }
   ],
   "metadata": {}
  },
  {
   "cell_type": "markdown",
   "source": [
    "#### Categorical attributes to numerical values "
   ],
   "metadata": {}
  },
  {
   "cell_type": "code",
   "execution_count": 4,
   "source": [
    "def convert_categorical_to_numerical(data_frame, categorical_column_names):\n",
    "  labelEncoder = preprocessing.LabelEncoder()\n",
    "  for col in categorical_column_names:\n",
    "    data_frame[col] = labelEncoder.fit_transform(data_frame[col])\n",
    "  return data_frame\n",
    "\n",
    "test_data_frame = convert_categorical_to_numerical(test_data_frame, category_column_names)\n",
    "train_data_frame = convert_categorical_to_numerical(train_data_frame, category_column_names)"
   ],
   "outputs": [],
   "metadata": {}
  },
  {
   "cell_type": "markdown",
   "source": [
    "### Classifier"
   ],
   "metadata": {}
  },
  {
   "cell_type": "code",
   "execution_count": 5,
   "source": [
    "def classify(classifier, X_train, Y_train, X_test, Y_test):\n",
    "  start_time = time.time()\n",
    "  classifier.fit(X_train, Y_train)\n",
    "  end_time = time.time() - start_time\n",
    "  print(f'{end_time:.2f} seconds to train')\n",
    "  y_pred = classifier.predict(X_test)\n",
    "  classification_report = metrics.classification_report(Y_test,y_pred)\n",
    "  accuracy = accuracy_score(Y_test,y_pred)*100\n",
    "  print('Accuracy: {}'.format(accuracy))\n",
    "  print('Precision Value\\n{}'.format(classification_report))\n",
    "  conf_matrix = confusion_matrix(Y_test, y_pred)\n",
    "  print('Confusion Matrix:\\n{}'.format(conf_matrix))"
   ],
   "outputs": [],
   "metadata": {}
  },
  {
   "cell_type": "markdown",
   "source": [
    "#### Decision Tree Classifier"
   ],
   "metadata": {}
  },
  {
   "cell_type": "code",
   "execution_count": 7,
   "source": [
    "def decision_tree(): \n",
    "  decision_tree_classifier = DecisionTreeClassifier(criterion = \"gini\", random_state = 100,\n",
    "                                max_depth=5, min_samples_leaf=5)\n",
    "  X_train_dt = train_data_frame.values[:, 0:14]\n",
    "  Y_train_dt = train_data_frame.values[:,14]\n",
    "  X_test_dt = test_data_frame.values[:, 0:14]\n",
    "  Y_test_dt = test_data_frame.values[:, 14]\n",
    "  classify(decision_tree_classifier, X_train_dt, Y_train_dt, X_test_dt, Y_test_dt)\n",
    "\n",
    "decision_tree()"
   ],
   "outputs": [
    {
     "output_type": "stream",
     "name": "stdout",
     "text": [
      "0.05 seconds to train\n",
      "Accuracy: 84.18990703851262\n",
      "Precision Value\n",
      "              precision    recall  f1-score   support\n",
      "\n",
      "           0       0.86      0.95      0.90     11360\n",
      "           1       0.77      0.51      0.61      3700\n",
      "\n",
      "    accuracy                           0.84     15060\n",
      "   macro avg       0.81      0.73      0.76     15060\n",
      "weighted avg       0.83      0.84      0.83     15060\n",
      "\n",
      "Confusion Matrix:\n",
      "[[10794   566]\n",
      " [ 1815  1885]]\n"
     ]
    }
   ],
   "metadata": {}
  },
  {
   "cell_type": "markdown",
   "source": [
    "#### Naive Bayes Classifier"
   ],
   "metadata": {}
  },
  {
   "cell_type": "code",
   "execution_count": 6,
   "source": [
    "def naive_bayes(): \n",
    "  gnb=GaussianNB()\n",
    "  X_train_nb = train_data_frame.values[:, 0:14]\n",
    "  Y_train_nb = train_data_frame.values[:,14]\n",
    "  X_test_nb = test_data_frame.values[:, 0:14]\n",
    "  Y_test_nb = test_data_frame.values[:, 14]\n",
    "  classify(gnb, X_train_nb, Y_train_nb, X_test_nb, Y_test_nb)\n",
    "naive_bayes()"
   ],
   "outputs": [
    {
     "output_type": "stream",
     "name": "stdout",
     "text": [
      "0.01 seconds to train\n",
      "Accuracy: 78.85790172642763\n",
      "Precision Value\n",
      "              precision    recall  f1-score   support\n",
      "\n",
      "           0       0.81      0.95      0.87     11360\n",
      "           1       0.65      0.31      0.42      3700\n",
      "\n",
      "    accuracy                           0.79     15060\n",
      "   macro avg       0.73      0.63      0.64     15060\n",
      "weighted avg       0.77      0.79      0.76     15060\n",
      "\n",
      "Confusion Matrix:\n",
      "[[10740   620]\n",
      " [ 2564  1136]]\n"
     ]
    }
   ],
   "metadata": {}
  }
 ],
 "metadata": {
  "orig_nbformat": 4,
  "language_info": {
   "name": "python",
   "version": "3.9.7",
   "mimetype": "text/x-python",
   "codemirror_mode": {
    "name": "ipython",
    "version": 3
   },
   "pygments_lexer": "ipython3",
   "nbconvert_exporter": "python",
   "file_extension": ".py"
  },
  "kernelspec": {
   "name": "python3",
   "display_name": "Python 3.9.7 64-bit"
  },
  "interpreter": {
   "hash": "aee8b7b246df8f9039afb4144a1f6fd8d2ca17a180786b69acc140d282b71a49"
  }
 },
 "nbformat": 4,
 "nbformat_minor": 2
}